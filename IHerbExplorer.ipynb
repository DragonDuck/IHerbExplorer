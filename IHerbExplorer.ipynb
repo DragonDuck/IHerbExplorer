{
 "cells": [
  {
   "cell_type": "markdown",
   "metadata": {},
   "source": [
    "# E-Commerce Scraper\n",
    "\n",
    "This is the report for the E-Commerce site scraper I wrote for the Pulsifi technical assessment.\n",
    "\n",
    "I chose Lazada as the initial e-commerce website to scrape. "
   ]
  },
  {
   "cell_type": "markdown",
   "metadata": {},
   "source": [
    "## Scraping Data\n",
    "The crawling and scraping is implemented as a `Scrapy` spider. The choice of framework is more or less irrelevant as Lazada stores item information as a JSON string within the HTML source code itself. This means that there are no problems regarding dynamically loaded content on the page.\n",
    "\n",
    "I chose to scrape the subcategories of the \"Electronic Devices\" super-category:\n",
    "- mobiles\n",
    "- tablets\n",
    "- laptops\n",
    "- desktops\n",
    "- gaming consoles\n",
    "- car cameras\n",
    "- action/video cameras\n",
    "- security cameras\n",
    "- digital cameras\n",
    "- gadgets"
   ]
  },
  {
   "cell_type": "code",
   "execution_count": null,
   "metadata": {},
   "outputs": [],
   "source": []
  }
 ],
 "metadata": {
  "kernelspec": {
   "display_name": "Python 3",
   "language": "python",
   "name": "python3"
  },
  "language_info": {
   "codemirror_mode": {
    "name": "ipython",
    "version": 3
   },
   "file_extension": ".py",
   "mimetype": "text/x-python",
   "name": "python",
   "nbconvert_exporter": "python",
   "pygments_lexer": "ipython3",
   "version": "3.6.8"
  }
 },
 "nbformat": 4,
 "nbformat_minor": 2
}
